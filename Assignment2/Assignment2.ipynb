{
 "cells": [
  {
   "cell_type": "markdown",
   "metadata": {},
   "source": [
    "## INFS 770 - Assignment 2\n",
    "\n",
    "**Note**: Created using Anaconda Python 3.7.1 (64-bit)"
   ]
  },
  {
   "cell_type": "markdown",
   "metadata": {},
   "source": [
    "---"
   ]
  },
  {
   "cell_type": "markdown",
   "metadata": {},
   "source": [
    "### Pre-task setup"
   ]
  },
  {
   "cell_type": "code",
   "execution_count": 1,
   "metadata": {},
   "outputs": [],
   "source": [
    "# Imports\n",
    "%matplotlib inline\n",
    "import numpy as np\n",
    "import pandas as pd\n",
    "import matplotlib.pyplot as plt\n",
    "\n",
    "# Sci-Py Packages\n",
    "from scipy.spatial.distance import cosine, euclidean"
   ]
  },
  {
   "cell_type": "code",
   "execution_count": 2,
   "metadata": {},
   "outputs": [],
   "source": [
    "# Load data\n",
    "data_file = \"DBbook_train_ratings.tsv\"\n",
    "df_data1 = pd.read_csv(data_file,\n",
    "                       sep=\"\\t\",\n",
    "                       header=None,\n",
    "                       skiprows=1,\n",
    "                       names=[\"userID\", \"itemID\", \"rate\" ]\n",
    "                       )"
   ]
  },
  {
   "cell_type": "code",
   "execution_count": 3,
   "metadata": {},
   "outputs": [
    {
     "name": "stdout",
     "output_type": "stream",
     "text": [
      "   userID  itemID  rate\n",
      "0    6873    3201     4\n",
      "1    6873    3098     4\n",
      "2    6873    4198     4\n",
      "3    6873    5950     4\n",
      "4    6873     204     4\n"
     ]
    }
   ],
   "source": [
    "# Make sure we've got data in our dataframe\n",
    "print(df_data1.head())"
   ]
  },
  {
   "cell_type": "code",
   "execution_count": 4,
   "metadata": {},
   "outputs": [],
   "source": [
    "# Euclidean distance functiones (copied from ml_100k notebook)\n",
    "\n",
    "def top_k_users(user_number, k):\n",
    "    # no need to transpose the matrix this time because the rows already represent users\n",
    "    # remove the active user\n",
    "    df_sim = dense_matrix.loc[dense_matrix.index != user_number]\n",
    "    # calculate the distance for between the given user and each row\n",
    "    df_sim[\"distance\"] = df_sim.apply(lambda x: euclidean(dense_matrix.loc[user_number], x), axis=1)\n",
    "    # return the top k from the sorted distances\n",
    "    return df_sim.sort_values(by=\"distance\").head(k)[\"distance\"]\n",
    "\n",
    "def top_k_items(item_number, k):\n",
    "    # copy the dense matrix and transpose it so each row represents an item\n",
    "    df_sim = dense_matrix.transpose()\n",
    "    # remove the active item \n",
    "    df_sim = df_sim.loc[df_sim.index != item_number]\n",
    "    # calculate the distance between the given item for each row (apply the function to each row if axis = 1)\n",
    "    df_sim[\"distance\"] = df_sim.apply(lambda x: euclidean(dense_matrix[item_number], x), axis=1)\n",
    "    # return the top k from the sorted distances\n",
    "    return df_sim.sort_values(by=\"distance\").head(k)[\"distance\"]   "
   ]
  },
  {
   "cell_type": "markdown",
   "metadata": {},
   "source": [
    "### Question 1"
   ]
  },
  {
   "cell_type": "code",
   "execution_count": 5,
   "metadata": {},
   "outputs": [
    {
     "name": "stdout",
     "output_type": "stream",
     "text": [
      "Number of unique users: 6181\n",
      "Number of unique books: 6166\n"
     ]
    }
   ],
   "source": [
    "# Q1: Print the number of unique users and the number of unique books in this data set\n",
    "unique_users = len(df_data1['userID'].unique())\n",
    "unique_books = len(df_data1['itemID'].unique())\n",
    "\n",
    "print(\"Number of unique users: {}\".format(unique_users))\n",
    "print(\"Number of unique books: {}\".format(unique_books))"
   ]
  },
  {
   "cell_type": "markdown",
   "metadata": {},
   "source": [
    "### Question 2"
   ]
  },
  {
   "cell_type": "code",
   "execution_count": 6,
   "metadata": {},
   "outputs": [],
   "source": [
    "# Q2.1: Create the utility matrix\n",
    "dense_matrix = df_data1.pivot_table(values=\"rate\", index=[\"userID\"], columns=[\"itemID\"])"
   ]
  },
  {
   "cell_type": "code",
   "execution_count": 7,
   "metadata": {},
   "outputs": [
    {
     "name": "stdout",
     "output_type": "stream",
     "text": [
      "itemID  1     2     3     5     7     8     9     11    12    13    ...  8157  \\\n",
      "userID                                                              ...         \n",
      "1        NaN   NaN   NaN   NaN   NaN   NaN   NaN   NaN   NaN   NaN  ...   NaN   \n",
      "2        NaN   NaN   NaN   NaN   NaN   NaN   NaN   NaN   NaN   NaN  ...   NaN   \n",
      "3        NaN   NaN   NaN   NaN   NaN   NaN   NaN   NaN   NaN   NaN  ...   NaN   \n",
      "4        NaN   NaN   NaN   NaN   NaN   NaN   NaN   NaN   NaN   NaN  ...   NaN   \n",
      "5        NaN   NaN   NaN   NaN   NaN   NaN   NaN   NaN   NaN   NaN  ...   NaN   \n",
      "6        NaN   NaN   NaN   NaN   NaN   NaN   NaN   NaN   NaN   NaN  ...   NaN   \n",
      "7        NaN   NaN   NaN   NaN   NaN   NaN   NaN   NaN   NaN   NaN  ...   NaN   \n",
      "8        NaN   NaN   NaN   NaN   NaN   NaN   NaN   NaN   NaN   NaN  ...   NaN   \n",
      "9        NaN   NaN   NaN   NaN   NaN   NaN   NaN   NaN   NaN   NaN  ...   NaN   \n",
      "10       NaN   NaN   NaN   NaN   NaN   NaN   NaN   NaN   NaN   NaN  ...   NaN   \n",
      "\n",
      "itemID  8160  8161  8162  8163  8164  8166  8167  8168  8169  \n",
      "userID                                                        \n",
      "1        NaN   NaN   NaN   NaN   NaN   NaN   NaN   NaN   NaN  \n",
      "2        NaN   NaN   NaN   NaN   NaN   NaN   NaN   NaN   NaN  \n",
      "3        NaN   NaN   NaN   NaN   NaN   NaN   NaN   NaN   NaN  \n",
      "4        NaN   NaN   NaN   NaN   NaN   NaN   NaN   4.0   NaN  \n",
      "5        NaN   NaN   NaN   NaN   NaN   NaN   NaN   NaN   NaN  \n",
      "6        NaN   NaN   NaN   NaN   NaN   NaN   NaN   4.0   NaN  \n",
      "7        NaN   NaN   NaN   NaN   NaN   NaN   NaN   NaN   NaN  \n",
      "8        NaN   NaN   NaN   NaN   NaN   NaN   NaN   NaN   NaN  \n",
      "9        NaN   NaN   NaN   NaN   NaN   NaN   NaN   NaN   NaN  \n",
      "10       NaN   NaN   NaN   NaN   NaN   NaN   NaN   NaN   NaN  \n",
      "\n",
      "[10 rows x 6166 columns]\n"
     ]
    }
   ],
   "source": [
    "# Q2.2: Print the first 10 rows of the matrix\n",
    "print(dense_matrix.head(n=10))"
   ]
  },
  {
   "cell_type": "code",
   "execution_count": 8,
   "metadata": {},
   "outputs": [
    {
     "name": "stdout",
     "output_type": "stream",
     "text": [
      "Number of unpopulated cells: 38036488\n",
      "Percent of unpopulated cells: 99.8%\n"
     ]
    }
   ],
   "source": [
    "# Q2.3: Print the number and the percentage of cells in the utility matrix that are not populated\n",
    "\n",
    "num_rows, num_cols = dense_matrix.shape # Get the total size of our matrix\n",
    "total_cells = num_rows * num_cols\n",
    "num_unpopulated = dense_matrix.isna().sum().sum()\n",
    "percent_unpopulated = float(num_unpopulated / total_cells) # Force to floating point number rather than integer\n",
    "\n",
    "print(\"Number of unpopulated cells: {}\".format(num_unpopulated))\n",
    "print(\"Percent of unpopulated cells: {:.1%}\".format(percent_unpopulated))"
   ]
  },
  {
   "cell_type": "code",
   "execution_count": 9,
   "metadata": {},
   "outputs": [
    {
     "data": {
      "text/html": [
       "<div>\n",
       "<style scoped>\n",
       "    .dataframe tbody tr th:only-of-type {\n",
       "        vertical-align: middle;\n",
       "    }\n",
       "\n",
       "    .dataframe tbody tr th {\n",
       "        vertical-align: top;\n",
       "    }\n",
       "\n",
       "    .dataframe thead th {\n",
       "        text-align: right;\n",
       "    }\n",
       "</style>\n",
       "<table border=\"1\" class=\"dataframe\">\n",
       "  <thead>\n",
       "    <tr style=\"text-align: right;\">\n",
       "      <th>itemID</th>\n",
       "      <th>1</th>\n",
       "      <th>2</th>\n",
       "      <th>3</th>\n",
       "      <th>5</th>\n",
       "      <th>7</th>\n",
       "      <th>8</th>\n",
       "      <th>9</th>\n",
       "      <th>11</th>\n",
       "      <th>12</th>\n",
       "      <th>13</th>\n",
       "      <th>...</th>\n",
       "      <th>8157</th>\n",
       "      <th>8160</th>\n",
       "      <th>8161</th>\n",
       "      <th>8162</th>\n",
       "      <th>8163</th>\n",
       "      <th>8164</th>\n",
       "      <th>8166</th>\n",
       "      <th>8167</th>\n",
       "      <th>8168</th>\n",
       "      <th>8169</th>\n",
       "    </tr>\n",
       "    <tr>\n",
       "      <th>userID</th>\n",
       "      <th></th>\n",
       "      <th></th>\n",
       "      <th></th>\n",
       "      <th></th>\n",
       "      <th></th>\n",
       "      <th></th>\n",
       "      <th></th>\n",
       "      <th></th>\n",
       "      <th></th>\n",
       "      <th></th>\n",
       "      <th></th>\n",
       "      <th></th>\n",
       "      <th></th>\n",
       "      <th></th>\n",
       "      <th></th>\n",
       "      <th></th>\n",
       "      <th></th>\n",
       "      <th></th>\n",
       "      <th></th>\n",
       "      <th></th>\n",
       "      <th></th>\n",
       "    </tr>\n",
       "  </thead>\n",
       "  <tbody>\n",
       "    <tr>\n",
       "      <th>1</th>\n",
       "      <td>0.0</td>\n",
       "      <td>0.0</td>\n",
       "      <td>0.0</td>\n",
       "      <td>0.0</td>\n",
       "      <td>0.0</td>\n",
       "      <td>0.0</td>\n",
       "      <td>0.0</td>\n",
       "      <td>0.0</td>\n",
       "      <td>0.0</td>\n",
       "      <td>0.0</td>\n",
       "      <td>...</td>\n",
       "      <td>0.0</td>\n",
       "      <td>0.0</td>\n",
       "      <td>0.0</td>\n",
       "      <td>0.0</td>\n",
       "      <td>0.0</td>\n",
       "      <td>0.0</td>\n",
       "      <td>0.0</td>\n",
       "      <td>0.0</td>\n",
       "      <td>0.0</td>\n",
       "      <td>0.0</td>\n",
       "    </tr>\n",
       "    <tr>\n",
       "      <th>2</th>\n",
       "      <td>0.0</td>\n",
       "      <td>0.0</td>\n",
       "      <td>0.0</td>\n",
       "      <td>0.0</td>\n",
       "      <td>0.0</td>\n",
       "      <td>0.0</td>\n",
       "      <td>0.0</td>\n",
       "      <td>0.0</td>\n",
       "      <td>0.0</td>\n",
       "      <td>0.0</td>\n",
       "      <td>...</td>\n",
       "      <td>0.0</td>\n",
       "      <td>0.0</td>\n",
       "      <td>0.0</td>\n",
       "      <td>0.0</td>\n",
       "      <td>0.0</td>\n",
       "      <td>0.0</td>\n",
       "      <td>0.0</td>\n",
       "      <td>0.0</td>\n",
       "      <td>0.0</td>\n",
       "      <td>0.0</td>\n",
       "    </tr>\n",
       "    <tr>\n",
       "      <th>3</th>\n",
       "      <td>0.0</td>\n",
       "      <td>0.0</td>\n",
       "      <td>0.0</td>\n",
       "      <td>0.0</td>\n",
       "      <td>0.0</td>\n",
       "      <td>0.0</td>\n",
       "      <td>0.0</td>\n",
       "      <td>0.0</td>\n",
       "      <td>0.0</td>\n",
       "      <td>0.0</td>\n",
       "      <td>...</td>\n",
       "      <td>0.0</td>\n",
       "      <td>0.0</td>\n",
       "      <td>0.0</td>\n",
       "      <td>0.0</td>\n",
       "      <td>0.0</td>\n",
       "      <td>0.0</td>\n",
       "      <td>0.0</td>\n",
       "      <td>0.0</td>\n",
       "      <td>0.0</td>\n",
       "      <td>0.0</td>\n",
       "    </tr>\n",
       "    <tr>\n",
       "      <th>4</th>\n",
       "      <td>0.0</td>\n",
       "      <td>0.0</td>\n",
       "      <td>0.0</td>\n",
       "      <td>0.0</td>\n",
       "      <td>0.0</td>\n",
       "      <td>0.0</td>\n",
       "      <td>0.0</td>\n",
       "      <td>0.0</td>\n",
       "      <td>0.0</td>\n",
       "      <td>0.0</td>\n",
       "      <td>...</td>\n",
       "      <td>0.0</td>\n",
       "      <td>0.0</td>\n",
       "      <td>0.0</td>\n",
       "      <td>0.0</td>\n",
       "      <td>0.0</td>\n",
       "      <td>0.0</td>\n",
       "      <td>0.0</td>\n",
       "      <td>0.0</td>\n",
       "      <td>4.0</td>\n",
       "      <td>0.0</td>\n",
       "    </tr>\n",
       "    <tr>\n",
       "      <th>5</th>\n",
       "      <td>0.0</td>\n",
       "      <td>0.0</td>\n",
       "      <td>0.0</td>\n",
       "      <td>0.0</td>\n",
       "      <td>0.0</td>\n",
       "      <td>0.0</td>\n",
       "      <td>0.0</td>\n",
       "      <td>0.0</td>\n",
       "      <td>0.0</td>\n",
       "      <td>0.0</td>\n",
       "      <td>...</td>\n",
       "      <td>0.0</td>\n",
       "      <td>0.0</td>\n",
       "      <td>0.0</td>\n",
       "      <td>0.0</td>\n",
       "      <td>0.0</td>\n",
       "      <td>0.0</td>\n",
       "      <td>0.0</td>\n",
       "      <td>0.0</td>\n",
       "      <td>0.0</td>\n",
       "      <td>0.0</td>\n",
       "    </tr>\n",
       "  </tbody>\n",
       "</table>\n",
       "<p>5 rows × 6166 columns</p>\n",
       "</div>"
      ],
      "text/plain": [
       "itemID  1     2     3     5     7     8     9     11    12    13    ...  8157  \\\n",
       "userID                                                              ...         \n",
       "1        0.0   0.0   0.0   0.0   0.0   0.0   0.0   0.0   0.0   0.0  ...   0.0   \n",
       "2        0.0   0.0   0.0   0.0   0.0   0.0   0.0   0.0   0.0   0.0  ...   0.0   \n",
       "3        0.0   0.0   0.0   0.0   0.0   0.0   0.0   0.0   0.0   0.0  ...   0.0   \n",
       "4        0.0   0.0   0.0   0.0   0.0   0.0   0.0   0.0   0.0   0.0  ...   0.0   \n",
       "5        0.0   0.0   0.0   0.0   0.0   0.0   0.0   0.0   0.0   0.0  ...   0.0   \n",
       "\n",
       "itemID  8160  8161  8162  8163  8164  8166  8167  8168  8169  \n",
       "userID                                                        \n",
       "1        0.0   0.0   0.0   0.0   0.0   0.0   0.0   0.0   0.0  \n",
       "2        0.0   0.0   0.0   0.0   0.0   0.0   0.0   0.0   0.0  \n",
       "3        0.0   0.0   0.0   0.0   0.0   0.0   0.0   0.0   0.0  \n",
       "4        0.0   0.0   0.0   0.0   0.0   0.0   0.0   4.0   0.0  \n",
       "5        0.0   0.0   0.0   0.0   0.0   0.0   0.0   0.0   0.0  \n",
       "\n",
       "[5 rows x 6166 columns]"
      ]
     },
     "execution_count": 9,
     "metadata": {},
     "output_type": "execute_result"
    }
   ],
   "source": [
    "# Q2.4: Write code to fill these empty cells with 0s\n",
    "dense_matrix = dense_matrix.fillna(0)\n",
    "# Validate that we have 0s now rather than NaN\n",
    "dense_matrix.head()"
   ]
  },
  {
   "cell_type": "markdown",
   "metadata": {},
   "source": [
    "### Question 3"
   ]
  },
  {
   "cell_type": "code",
   "execution_count": 10,
   "metadata": {},
   "outputs": [
    {
     "data": {
      "text/plain": [
       "userID\n",
       "3917    11.401754\n",
       "6875    12.569805\n",
       "986     12.806248\n",
       "1983    12.884099\n",
       "1156    12.922848\n",
       "Name: distance, dtype: float64"
      ]
     },
     "execution_count": 10,
     "metadata": {},
     "output_type": "execute_result"
    }
   ],
   "source": [
    "# Q3: Print the top 5 similar users to userID 2 based on Euclidean distance. \n",
    "top_k_users(2, 5)"
   ]
  },
  {
   "cell_type": "markdown",
   "metadata": {},
   "source": [
    "### Question 4"
   ]
  },
  {
   "cell_type": "code",
   "execution_count": 11,
   "metadata": {},
   "outputs": [
    {
     "name": "stdout",
     "output_type": "stream",
     "text": [
      "Euclidean distance between the two items is: 29.189039038652847\n"
     ]
    }
   ],
   "source": [
    "# Q4.1: Please write code to print the Euclidean distance between itemID 18 and itemID 1\n",
    "\n",
    "# copy the dense matrix and transpose it so each row represents an item\n",
    "df_sim = dense_matrix.transpose()\n",
    "\n",
    "distance = euclidean(df_sim.loc[18], df_sim.loc[1])\n",
    "print(\"Euclidean distance between the two items is: {}\".format(distance))"
   ]
  },
  {
   "cell_type": "code",
   "execution_count": 12,
   "metadata": {},
   "outputs": [
    {
     "name": "stdout",
     "output_type": "stream",
     "text": [
      "Euclidean distance between the two items is: 40.124805295477756\n"
     ]
    }
   ],
   "source": [
    "# Q4.2: Please write code to print the Enclidean distance between itemID36 and itemID 1\n",
    "\n",
    "distance = euclidean(df_sim.loc[36], df_sim.loc[1])\n",
    "print(\"Euclidean distance between the two items is: {}\".format(distance))"
   ]
  },
  {
   "cell_type": "code",
   "execution_count": 13,
   "metadata": {},
   "outputs": [
    {
     "name": "stdout",
     "output_type": "stream",
     "text": [
      "itemID 18 is more similar to itemID 1 because its Euclidean distance is shorter than the distance between itemID 36 and itemID 1\n"
     ]
    }
   ],
   "source": [
    "# Q4.3: Write a print statement that tells me between itemID36 and itemID18, which is more similar to itemID 1 and why.\n",
    "\n",
    "print(\"itemID 18 is more similar to itemID 1 because its Euclidean distance is shorter than the distance between itemID 36 and itemID 1\")"
   ]
  },
  {
   "cell_type": "markdown",
   "metadata": {},
   "source": [
    "### Question 5"
   ]
  },
  {
   "cell_type": "code",
   "execution_count": 14,
   "metadata": {},
   "outputs": [
    {
     "data": {
      "text/plain": [
       "itemID\n",
       "3711    127.921851\n",
       "4559    127.964839\n",
       "330     129.715072\n",
       "1311    129.722781\n",
       "7328    129.761319\n",
       "Name: distance, dtype: float64"
      ]
     },
     "execution_count": 14,
     "metadata": {},
     "output_type": "execute_result"
    }
   ],
   "source": [
    "# Q5: Please write code to print the top 5 similar items to itemID 8010\n",
    "top_k_items(8010, 5)"
   ]
  },
  {
   "cell_type": "markdown",
   "metadata": {},
   "source": [
    "### Question 6"
   ]
  },
  {
   "cell_type": "code",
   "execution_count": 15,
   "metadata": {},
   "outputs": [],
   "source": [
    "# Q6.1: Write code to remove books and users with less than 20 rating scores \n",
    "#       from the utility matrix by copying and maybe modifying the following codes\n",
    "df_item_freq = df_data1.groupby(\"itemID\").count()\n",
    "df_user_freq = df_data1.groupby(\"userID\").count()\n",
    "selected_items = df_item_freq[df_item_freq[\"userID\"]>20].index\n",
    "dense_matrix = dense_matrix[selected_items]\n",
    "selected_users = df_user_freq[df_user_freq[\"itemID\"]>20].index\n",
    "dense_matrix = dense_matrix.loc[selected_users]\n",
    "\n",
    "#dense_matrix.head()"
   ]
  },
  {
   "cell_type": "code",
   "execution_count": 16,
   "metadata": {},
   "outputs": [
    {
     "name": "stdout",
     "output_type": "stream",
     "text": [
      "Matrix shape: 766 x 776\n"
     ]
    }
   ],
   "source": [
    "# Q6.2: Print the shape of the dataset\n",
    "print(\"Matrix shape: {} x {}\".format(dense_matrix.shape[0], dense_matrix.shape[1]))"
   ]
  },
  {
   "cell_type": "markdown",
   "metadata": {},
   "source": [
    "### Question 7"
   ]
  },
  {
   "cell_type": "code",
   "execution_count": 17,
   "metadata": {},
   "outputs": [],
   "source": [
    "# Q7.1: Please use the dataset you obtained from Q6 and write code to remove users that haven’t rated itemID8010\n",
    "dense_matrix = dense_matrix[dense_matrix.loc[:,8010] != 0.0]"
   ]
  },
  {
   "cell_type": "code",
   "execution_count": 18,
   "metadata": {},
   "outputs": [
    {
     "data": {
      "text/plain": [
       "4.0    68\n",
       "5.0    58\n",
       "3.0    27\n",
       "2.0    13\n",
       "1.0     8\n",
       "Name: 8010, dtype: int64"
      ]
     },
     "execution_count": 18,
     "metadata": {},
     "output_type": "execute_result"
    }
   ],
   "source": [
    "# Q7.2: Please write code to print the counts of the different rating scores of this item \n",
    "dense_matrix.loc[:,8010].value_counts()"
   ]
  },
  {
   "cell_type": "code",
   "execution_count": 19,
   "metadata": {},
   "outputs": [
    {
     "name": "stdout",
     "output_type": "stream",
     "text": [
      "Matrix shape: 174 x 776\n"
     ]
    }
   ],
   "source": [
    "# Q7.3: Print the shape of the data\n",
    "print(\"Matrix shape: {} x {}\".format(dense_matrix.shape[0], dense_matrix.shape[1]))"
   ]
  },
  {
   "cell_type": "markdown",
   "metadata": {},
   "source": [
    "### Question 8"
   ]
  },
  {
   "cell_type": "code",
   "execution_count": 20,
   "metadata": {},
   "outputs": [
    {
     "name": "stdout",
     "output_type": "stream",
     "text": [
      "(174, 775)\n",
      "(174, 1)\n"
     ]
    }
   ],
   "source": [
    "# Q8.1: Write code to partition the data set you obtained from Q7 for validating \n",
    "#       the performance on predicting rating on itemID 8010\n",
    "from sklearn.model_selection import train_test_split\n",
    "\n",
    "# create a data frame for the predictors\n",
    "df_x = dense_matrix[[col for col in dense_matrix.columns if col != 8010]]\n",
    "print(df_x.shape)\n",
    "\n",
    "# create a series for the outcome\n",
    "df_y = dense_matrix[[8010]]\n",
    "print(df_y.shape)"
   ]
  },
  {
   "cell_type": "code",
   "execution_count": 21,
   "metadata": {},
   "outputs": [],
   "source": [
    "# Q8.2: Randomly select 25% of the users as the testing set and the others as the training set\n",
    "\n",
    "# Create our split\n",
    "train_x, test_x, train_y, test_y = train_test_split(df_x, df_y, test_size=0.25, random_state=0)\n",
    "df_train_x = pd.DataFrame(train_x, columns=df_x.columns)\n",
    "df_test_x = pd.DataFrame(test_x, columns=df_x.columns)\n",
    "df_train_y = pd.DataFrame(train_y, columns=[8010])\n",
    "df_test_y = pd.DataFrame(test_y, columns=[8010])"
   ]
  },
  {
   "cell_type": "code",
   "execution_count": 22,
   "metadata": {},
   "outputs": [
    {
     "name": "stdout",
     "output_type": "stream",
     "text": [
      "shapes\n",
      "x training: (130, 775)\n",
      "x testing: (44, 775)\n",
      "y training: (130, 1)\n",
      "y testing: (44, 1)\n",
      "\n",
      "class counts\n",
      "y training:\n",
      " 4.0    51\n",
      "5.0    43\n",
      "3.0    23\n",
      "2.0     8\n",
      "1.0     5\n",
      "Name: 8010, dtype: int64\n",
      "y testing:\n",
      " 4.0    17\n",
      "5.0    15\n",
      "2.0     5\n",
      "3.0     4\n",
      "1.0     3\n",
      "Name: 8010, dtype: int64\n"
     ]
    }
   ],
   "source": [
    "# Q8.3: Please print the dimensions of the training set and the testing set\n",
    "print(\"shapes\")\n",
    "print(\"x training:\", df_train_x.shape)\n",
    "print(\"x testing:\", df_test_x.shape)\n",
    "print(\"y training:\", df_train_y.shape)\n",
    "print(\"y testing:\", df_test_y.shape)\n",
    "print() \n",
    "print(\"class counts\")\n",
    "print(\"y training:\\n\", df_train_y[8010].value_counts())\n",
    "print(\"y testing:\\n\", df_test_y[8010].value_counts())"
   ]
  },
  {
   "cell_type": "code",
   "execution_count": 23,
   "metadata": {},
   "outputs": [
    {
     "name": "stdout",
     "output_type": "stream",
     "text": [
      "Training set mean for itemID 8010: 3.9153846153846152\n",
      "Testing set mean for itemID 8010: 3.8181818181818183\n"
     ]
    }
   ],
   "source": [
    "# Q8.4: Please write code to print the mean rating of itemID 8010 in the training set and its mean rating in the testing set\n",
    "train_mean = df_train_y[8010].mean()\n",
    "test_mean = df_test_y[8010].mean()\n",
    "print(\"Training set mean for itemID 8010: {}\".format(train_mean))\n",
    "print(\"Testing set mean for itemID 8010: {}\".format(test_mean))"
   ]
  },
  {
   "cell_type": "markdown",
   "metadata": {},
   "source": [
    "### Question 9"
   ]
  },
  {
   "cell_type": "code",
   "execution_count": 24,
   "metadata": {},
   "outputs": [
    {
     "name": "stdout",
     "output_type": "stream",
     "text": [
      "5th user's userID is: 4521\n"
     ]
    }
   ],
   "source": [
    "# Q9.1: Use the training and test dataset obtained in Q8 and write code to \n",
    "#         1) print the userID of the 5th user  (the user in the 5th row) in the test dataset\n",
    "uid = df_test_x.index[5]\n",
    "print(\"5th user's userID is: {}\".format(uid))"
   ]
  },
  {
   "cell_type": "code",
   "execution_count": 25,
   "metadata": {},
   "outputs": [],
   "source": [
    "# Q9.2: Predict this user’s rating of itemID 8010 based on the top 8 similar users in the training dataset\n",
    "\n",
    "# specify the number of similar users to retrieve\n",
    "k = 8\n",
    "\n",
    "def user_based_predict(user_number):\n",
    "    # retrieve the top k similar users\n",
    "    # copy from all the training predictors\n",
    "    df_sim = df_train_x.copy()\n",
    "    # for each user, calculate the distance between this user and the active user\n",
    "    df_sim[\"distance\"] = df_sim.apply(lambda x: euclidean(df_test_x.loc[user_number], x), axis=1)\n",
    "    # create a new data frame to store the top k similar users\n",
    "    df_sim_users = df_sim.loc[df_sim.sort_values(by=\"distance\").head(k).index]\n",
    "    # calculate these similar users' rating on 8010, weighted by distance\n",
    "    df_sim_users[\"weighed_d\"] = list(map(lambda x: df_sim_users.loc[x][\"distance\"]*df_train_y.loc[x][8010], df_sim_users.index))\n",
    "    predicted = df_sim_users[\"weighed_d\"].sum()/df_sim_users[\"distance\"].sum()\n",
    "    return predicted\n",
    "\n",
    "predicted_rating = user_based_predict(uid)\n",
    "actual_rating = df_test_y.loc[uid][8010]"
   ]
  },
  {
   "cell_type": "code",
   "execution_count": 26,
   "metadata": {},
   "outputs": [
    {
     "name": "stdout",
     "output_type": "stream",
     "text": [
      "Predicted rating on Item 8010: 3.135703468754046\n",
      "Actual rating on Item 8010: 5.0\n"
     ]
    }
   ],
   "source": [
    "# Q9.3: Print the user’s predicted rating and the actual rating of the book. \n",
    "\n",
    "print(\"Predicted rating on Item 8010: {}\".format(predicted_rating))\n",
    "print(\"Actual rating on Item 8010: {}\".format(actual_rating))"
   ]
  },
  {
   "cell_type": "markdown",
   "metadata": {},
   "source": [
    "### Question 10"
   ]
  },
  {
   "cell_type": "markdown",
   "metadata": {},
   "source": [
    "1)\tUse your own language (<= 6 sentences) to briefly describe model-based collaborative filtering. \n",
    "\n",
    "\n",
    "Model-based collaborative filtering can be used in creating recommender systems that will predict a user's rating of an item.  With this approach, you start off with extracting some information from your user's rating data and then use that information to create your model that your software will use to make its prediction.  The main idea behind collaborative filtering is that similar users will have similar preferences, so you can use those similarities to predict the preferences of a user based off your model that you've created."
   ]
  },
  {
   "cell_type": "markdown",
   "metadata": {},
   "source": [
    "2)\tSummarize the differences between content-based filtering and model-based collaborative filtering? (at least two differences). How are they similar? \n",
    "\n",
    "Two of the differences between the two types of filtering are:\n",
    "- Content-based filtering focuses on using known features, whereas collaborative filtering focuses on finding and using previously unknown features.  For example, in the lecture we learned that for doing content-based filtering on movies we would need to know the name of the movie, the director, the genre, etc.  For collaborative filtering, we wouldn't need to know this information to construct the feature vector, we'd only need to look at the rating table to group similar types of users.\n",
    "- Another difference is that content-based filtering can deal with the cold start problem for new items (such as when we add a new item into our recommender system), whereas collaborative filtering doesn't deal well with cold starts on new items.\n",
    "\n",
    "Both filtering types use feature vectors that you construct from your data, just focused on different features of your data. As we learned in the lecture, in practice these two types of filtering are frequently used together when building recommender systems."
   ]
  }
 ],
 "metadata": {
  "kernelspec": {
   "display_name": "Python 3 (ipykernel)",
   "language": "python",
   "name": "python3"
  },
  "language_info": {
   "codemirror_mode": {
    "name": "ipython",
    "version": 3
   },
   "file_extension": ".py",
   "mimetype": "text/x-python",
   "name": "python",
   "nbconvert_exporter": "python",
   "pygments_lexer": "ipython3",
   "version": "3.10.9"
  }
 },
 "nbformat": 4,
 "nbformat_minor": 4
}
