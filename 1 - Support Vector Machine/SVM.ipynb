{
 "cells": [
  {
   "cell_type": "markdown",
   "metadata": {},
   "source": [
    "## INFS 770 - Assignment 1\n",
    "\n",
    "**Note**: Created using Anaconda Python 3.7.1 (64-bit)"
   ]
  },
  {
   "cell_type": "markdown",
   "metadata": {},
   "source": [
    "---"
   ]
  },
  {
   "cell_type": "markdown",
   "metadata": {},
   "source": [
    "### Pre-task setup"
   ]
  },
  {
   "cell_type": "code",
   "execution_count": 1,
   "metadata": {},
   "outputs": [],
   "source": [
    "# Imports\n",
    "%matplotlib inline\n",
    "import numpy as np\n",
    "import pandas as pd\n",
    "import matplotlib.pyplot as plt\n",
    "\n",
    "# Scikit-Learn modules\n",
    "from sklearn.model_selection import train_test_split\n",
    "from sklearn.linear_model import LogisticRegression\n",
    "from sklearn.svm import SVC\n",
    "from sklearn.metrics import classification_report\n",
    "from sklearn.metrics import accuracy_score"
   ]
  },
  {
   "cell_type": "code",
   "execution_count": 2,
   "metadata": {
    "scrolled": true
   },
   "outputs": [],
   "source": [
    "# Load data\n",
    "data_file = \"magic04.data\"\n",
    "var_names = [\n",
    "    \"fLength\",   # continuous # major axis of ellipse [mm]\n",
    "    \"fWidth\",    # continuous # minor axis of ellipse [mm]\n",
    "    \"fSize\",     # continuous # 10-log of sum of content of all pixels [in #phot]\n",
    "    \"fConc\",     # continuous # ratio of sum of two highest pixels over fSize [ratio]\n",
    "    \"fConc1\",    # continuous # ratio of highest pixel over fSize [ratio]\n",
    "    \"fAsym\",     # continuous # distance from highest pixel to center, projected onto major axis [mm]\n",
    "    \"fM3Long\",   # continuous # 3rd root of third moment along major axis [mm]\n",
    "    \"fM3Trans\",  # continuous # 3rd root of third moment along minor axis [mm]\n",
    "    \"fAlpha\",    # continuous # angle of major axis with vector to origin [deg]\n",
    "    \"fDist\",     # continuous # distance from origin to center of ellipse [mm]\n",
    "    \"class\"      # g,h        # gamma (signal), hadron (background) \n",
    "]\n",
    "\n",
    "df_data = pd.read_csv(data_file, sep=\",\", names=var_names)"
   ]
  },
  {
   "cell_type": "markdown",
   "metadata": {},
   "source": [
    "### Data exploration & visualization"
   ]
  },
  {
   "cell_type": "code",
   "execution_count": 3,
   "metadata": {},
   "outputs": [
    {
     "data": {
      "text/plain": [
       "fLength     float64\n",
       "fWidth      float64\n",
       "fSize       float64\n",
       "fConc       float64\n",
       "fConc1      float64\n",
       "fAsym       float64\n",
       "fM3Long     float64\n",
       "fM3Trans    float64\n",
       "fAlpha      float64\n",
       "fDist       float64\n",
       "class        object\n",
       "dtype: object"
      ]
     },
     "execution_count": 3,
     "metadata": {},
     "output_type": "execute_result"
    }
   ],
   "source": [
    "# Examine data types from the data frame\n",
    "df_data.dtypes"
   ]
  },
  {
   "cell_type": "code",
   "execution_count": 4,
   "metadata": {},
   "outputs": [
    {
     "data": {
      "text/html": [
       "<div>\n",
       "<style scoped>\n",
       "    .dataframe tbody tr th:only-of-type {\n",
       "        vertical-align: middle;\n",
       "    }\n",
       "\n",
       "    .dataframe tbody tr th {\n",
       "        vertical-align: top;\n",
       "    }\n",
       "\n",
       "    .dataframe thead th {\n",
       "        text-align: right;\n",
       "    }\n",
       "</style>\n",
       "<table border=\"1\" class=\"dataframe\">\n",
       "  <thead>\n",
       "    <tr style=\"text-align: right;\">\n",
       "      <th></th>\n",
       "      <th>fLength</th>\n",
       "      <th>fWidth</th>\n",
       "      <th>fSize</th>\n",
       "      <th>fConc</th>\n",
       "      <th>fConc1</th>\n",
       "      <th>fAsym</th>\n",
       "      <th>fM3Long</th>\n",
       "      <th>fM3Trans</th>\n",
       "      <th>fAlpha</th>\n",
       "      <th>fDist</th>\n",
       "      <th>class</th>\n",
       "    </tr>\n",
       "  </thead>\n",
       "  <tbody>\n",
       "    <tr>\n",
       "      <th>0</th>\n",
       "      <td>28.7967</td>\n",
       "      <td>16.0021</td>\n",
       "      <td>2.6449</td>\n",
       "      <td>0.3918</td>\n",
       "      <td>0.1982</td>\n",
       "      <td>27.7004</td>\n",
       "      <td>22.0110</td>\n",
       "      <td>-8.2027</td>\n",
       "      <td>40.0920</td>\n",
       "      <td>81.8828</td>\n",
       "      <td>g</td>\n",
       "    </tr>\n",
       "    <tr>\n",
       "      <th>1</th>\n",
       "      <td>31.6036</td>\n",
       "      <td>11.7235</td>\n",
       "      <td>2.5185</td>\n",
       "      <td>0.5303</td>\n",
       "      <td>0.3773</td>\n",
       "      <td>26.2722</td>\n",
       "      <td>23.8238</td>\n",
       "      <td>-9.9574</td>\n",
       "      <td>6.3609</td>\n",
       "      <td>205.2610</td>\n",
       "      <td>g</td>\n",
       "    </tr>\n",
       "    <tr>\n",
       "      <th>2</th>\n",
       "      <td>162.0520</td>\n",
       "      <td>136.0310</td>\n",
       "      <td>4.0612</td>\n",
       "      <td>0.0374</td>\n",
       "      <td>0.0187</td>\n",
       "      <td>116.7410</td>\n",
       "      <td>-64.8580</td>\n",
       "      <td>-45.2160</td>\n",
       "      <td>76.9600</td>\n",
       "      <td>256.7880</td>\n",
       "      <td>g</td>\n",
       "    </tr>\n",
       "    <tr>\n",
       "      <th>3</th>\n",
       "      <td>23.8172</td>\n",
       "      <td>9.5728</td>\n",
       "      <td>2.3385</td>\n",
       "      <td>0.6147</td>\n",
       "      <td>0.3922</td>\n",
       "      <td>27.2107</td>\n",
       "      <td>-6.4633</td>\n",
       "      <td>-7.1513</td>\n",
       "      <td>10.4490</td>\n",
       "      <td>116.7370</td>\n",
       "      <td>g</td>\n",
       "    </tr>\n",
       "    <tr>\n",
       "      <th>4</th>\n",
       "      <td>75.1362</td>\n",
       "      <td>30.9205</td>\n",
       "      <td>3.1611</td>\n",
       "      <td>0.3168</td>\n",
       "      <td>0.1832</td>\n",
       "      <td>-5.5277</td>\n",
       "      <td>28.5525</td>\n",
       "      <td>21.8393</td>\n",
       "      <td>4.6480</td>\n",
       "      <td>356.4620</td>\n",
       "      <td>g</td>\n",
       "    </tr>\n",
       "    <tr>\n",
       "      <th>5</th>\n",
       "      <td>51.6240</td>\n",
       "      <td>21.1502</td>\n",
       "      <td>2.9085</td>\n",
       "      <td>0.2420</td>\n",
       "      <td>0.1340</td>\n",
       "      <td>50.8761</td>\n",
       "      <td>43.1887</td>\n",
       "      <td>9.8145</td>\n",
       "      <td>3.6130</td>\n",
       "      <td>238.0980</td>\n",
       "      <td>g</td>\n",
       "    </tr>\n",
       "    <tr>\n",
       "      <th>6</th>\n",
       "      <td>48.2468</td>\n",
       "      <td>17.3565</td>\n",
       "      <td>3.0332</td>\n",
       "      <td>0.2529</td>\n",
       "      <td>0.1515</td>\n",
       "      <td>8.5730</td>\n",
       "      <td>38.0957</td>\n",
       "      <td>10.5868</td>\n",
       "      <td>4.7920</td>\n",
       "      <td>219.0870</td>\n",
       "      <td>g</td>\n",
       "    </tr>\n",
       "    <tr>\n",
       "      <th>7</th>\n",
       "      <td>26.7897</td>\n",
       "      <td>13.7595</td>\n",
       "      <td>2.5521</td>\n",
       "      <td>0.4236</td>\n",
       "      <td>0.2174</td>\n",
       "      <td>29.6339</td>\n",
       "      <td>20.4560</td>\n",
       "      <td>-2.9292</td>\n",
       "      <td>0.8120</td>\n",
       "      <td>237.1340</td>\n",
       "      <td>g</td>\n",
       "    </tr>\n",
       "    <tr>\n",
       "      <th>8</th>\n",
       "      <td>96.2327</td>\n",
       "      <td>46.5165</td>\n",
       "      <td>4.1540</td>\n",
       "      <td>0.0779</td>\n",
       "      <td>0.0390</td>\n",
       "      <td>110.3550</td>\n",
       "      <td>85.0486</td>\n",
       "      <td>43.1844</td>\n",
       "      <td>4.8540</td>\n",
       "      <td>248.2260</td>\n",
       "      <td>g</td>\n",
       "    </tr>\n",
       "    <tr>\n",
       "      <th>9</th>\n",
       "      <td>46.7619</td>\n",
       "      <td>15.1993</td>\n",
       "      <td>2.5786</td>\n",
       "      <td>0.3377</td>\n",
       "      <td>0.1913</td>\n",
       "      <td>24.7548</td>\n",
       "      <td>43.8771</td>\n",
       "      <td>-6.6812</td>\n",
       "      <td>7.8750</td>\n",
       "      <td>102.2510</td>\n",
       "      <td>g</td>\n",
       "    </tr>\n",
       "  </tbody>\n",
       "</table>\n",
       "</div>"
      ],
      "text/plain": [
       "    fLength    fWidth   fSize   fConc  fConc1     fAsym  fM3Long  fM3Trans  \\\n",
       "0   28.7967   16.0021  2.6449  0.3918  0.1982   27.7004  22.0110   -8.2027   \n",
       "1   31.6036   11.7235  2.5185  0.5303  0.3773   26.2722  23.8238   -9.9574   \n",
       "2  162.0520  136.0310  4.0612  0.0374  0.0187  116.7410 -64.8580  -45.2160   \n",
       "3   23.8172    9.5728  2.3385  0.6147  0.3922   27.2107  -6.4633   -7.1513   \n",
       "4   75.1362   30.9205  3.1611  0.3168  0.1832   -5.5277  28.5525   21.8393   \n",
       "5   51.6240   21.1502  2.9085  0.2420  0.1340   50.8761  43.1887    9.8145   \n",
       "6   48.2468   17.3565  3.0332  0.2529  0.1515    8.5730  38.0957   10.5868   \n",
       "7   26.7897   13.7595  2.5521  0.4236  0.2174   29.6339  20.4560   -2.9292   \n",
       "8   96.2327   46.5165  4.1540  0.0779  0.0390  110.3550  85.0486   43.1844   \n",
       "9   46.7619   15.1993  2.5786  0.3377  0.1913   24.7548  43.8771   -6.6812   \n",
       "\n",
       "    fAlpha     fDist class  \n",
       "0  40.0920   81.8828     g  \n",
       "1   6.3609  205.2610     g  \n",
       "2  76.9600  256.7880     g  \n",
       "3  10.4490  116.7370     g  \n",
       "4   4.6480  356.4620     g  \n",
       "5   3.6130  238.0980     g  \n",
       "6   4.7920  219.0870     g  \n",
       "7   0.8120  237.1340     g  \n",
       "8   4.8540  248.2260     g  \n",
       "9   7.8750  102.2510     g  "
      ]
     },
     "execution_count": 4,
     "metadata": {},
     "output_type": "execute_result"
    }
   ],
   "source": [
    "# Show first few values of the data frame\n",
    "df_data.head(10)"
   ]
  },
  {
   "cell_type": "code",
   "execution_count": 5,
   "metadata": {
    "scrolled": true
   },
   "outputs": [
    {
     "data": {
      "image/png": "[encoded data removed]",
      "text/plain": [
       "<Figure size 1152x1008 with 12 Axes>"
      ]
     },
     "metadata": {
      "needs_background": "light"
     },
     "output_type": "display_data"
    }
   ],
   "source": [
    "# produce some histograms\n",
    "df_data.hist(figsize=(16, 14));"
   ]
  },
  {
   "cell_type": "code",
   "execution_count": 6,
   "metadata": {},
   "outputs": [
    {
     "name": "stdout",
     "output_type": "stream",
     "text": [
      "--------------------------------------------------\n",
      "fLength\n",
      "count    19020.000000\n",
      "mean        53.250154\n",
      "std         42.364855\n",
      "min          4.283500\n",
      "25%         24.336000\n",
      "50%         37.147700\n",
      "75%         70.122175\n",
      "max        334.177000\n",
      "Name: fLength, dtype: float64\n",
      "--------------------------------------------------\n",
      "fWidth\n",
      "count    19020.000000\n",
      "mean        22.180966\n",
      "std         18.346056\n",
      "min          0.000000\n",
      "25%         11.863800\n",
      "50%         17.139900\n",
      "75%         24.739475\n",
      "max        256.382000\n",
      "Name: fWidth, dtype: float64\n",
      "--------------------------------------------------\n",
      "fSize\n",
      "count    19020.000000\n",
      "mean         2.825017\n",
      "std          0.472599\n",
      "min          1.941300\n",
      "25%          2.477100\n",
      "50%          2.739600\n",
      "75%          3.101600\n",
      "max          5.323300\n",
      "Name: fSize, dtype: float64\n",
      "--------------------------------------------------\n",
      "fConc\n",
      "count    19020.000000\n",
      "mean         0.380327\n",
      "std          0.182813\n",
      "min          0.013100\n",
      "25%          0.235800\n",
      "50%          0.354150\n",
      "75%          0.503700\n",
      "max          0.893000\n",
      "Name: fConc, dtype: float64\n",
      "--------------------------------------------------\n",
      "fConc1\n",
      "count    19020.000000\n",
      "mean         0.214657\n",
      "std          0.110511\n",
      "min          0.000300\n",
      "25%          0.128475\n",
      "50%          0.196500\n",
      "75%          0.285225\n",
      "max          0.675200\n",
      "Name: fConc1, dtype: float64\n",
      "--------------------------------------------------\n",
      "fAsym\n",
      "count    19020.000000\n",
      "mean        -4.331745\n",
      "std         59.206062\n",
      "min       -457.916100\n",
      "25%        -20.586550\n",
      "50%          4.013050\n",
      "75%         24.063700\n",
      "max        575.240700\n",
      "Name: fAsym, dtype: float64\n",
      "--------------------------------------------------\n",
      "fM3Long\n",
      "count    19020.000000\n",
      "mean        10.545545\n",
      "std         51.000118\n",
      "min       -331.780000\n",
      "25%        -12.842775\n",
      "50%         15.314100\n",
      "75%         35.837800\n",
      "max        238.321000\n",
      "Name: fM3Long, dtype: float64\n",
      "--------------------------------------------------\n",
      "fM3Trans\n",
      "count    19020.000000\n",
      "mean         0.249726\n",
      "std         20.827439\n",
      "min       -205.894700\n",
      "25%        -10.849375\n",
      "50%          0.666200\n",
      "75%         10.946425\n",
      "max        179.851000\n",
      "Name: fM3Trans, dtype: float64\n",
      "--------------------------------------------------\n",
      "fAlpha\n",
      "count    19020.000000\n",
      "mean        27.645707\n",
      "std         26.103621\n",
      "min          0.000000\n",
      "25%          5.547925\n",
      "50%         17.679500\n",
      "75%         45.883550\n",
      "max         90.000000\n",
      "Name: fAlpha, dtype: float64\n",
      "--------------------------------------------------\n",
      "fDist\n",
      "count    19020.000000\n",
      "mean       193.818026\n",
      "std         74.731787\n",
      "min          1.282600\n",
      "25%        142.492250\n",
      "50%        191.851450\n",
      "75%        240.563825\n",
      "max        495.561000\n",
      "Name: fDist, dtype: float64\n",
      "--------------------------------------------------\n",
      "class\n",
      "g    12332\n",
      "h     6688\n",
      "Name: class, dtype: int64\n"
     ]
    }
   ],
   "source": [
    "# produce summary statistics for numerical attributes\n",
    "# produce value counts for categorical attributes\n",
    "\n",
    "for var_name in var_names:\n",
    "    print(\"-\"*50)\n",
    "    print(var_name)\n",
    "    if df_data[var_name].dtype == object:\n",
    "        print(df_data[var_name].value_counts())\n",
    "    else:\n",
    "        print(df_data[var_name].describe())"
   ]
  },
  {
   "cell_type": "markdown",
   "metadata": {},
   "source": [
    "### Dummy coding"
   ]
  },
  {
   "cell_type": "code",
   "execution_count": 7,
   "metadata": {},
   "outputs": [
    {
     "name": "stdout",
     "output_type": "stream",
     "text": [
      "fLength     float64\n",
      "fWidth      float64\n",
      "fSize       float64\n",
      "fConc       float64\n",
      "fConc1      float64\n",
      "fAsym       float64\n",
      "fM3Long     float64\n",
      "fM3Trans    float64\n",
      "fAlpha      float64\n",
      "fDist       float64\n",
      "class_h       uint8\n",
      "dtype: object\n"
     ]
    }
   ],
   "source": [
    "# Do dummy coding for categorical variables\n",
    "for var in var_names:\n",
    "    if df_data[var].dtype == object:\n",
    "        df_data = pd.get_dummies(df_data, prefix=var, columns=[var], drop_first=True)\n",
    "print(df_data.dtypes)"
   ]
  },
  {
   "cell_type": "code",
   "execution_count": 8,
   "metadata": {},
   "outputs": [
    {
     "name": "stdout",
     "output_type": "stream",
     "text": [
      "    fLength    fWidth   fSize   fConc  fConc1     fAsym  fM3Long  fM3Trans  \\\n",
      "0   28.7967   16.0021  2.6449  0.3918  0.1982   27.7004  22.0110   -8.2027   \n",
      "1   31.6036   11.7235  2.5185  0.5303  0.3773   26.2722  23.8238   -9.9574   \n",
      "2  162.0520  136.0310  4.0612  0.0374  0.0187  116.7410 -64.8580  -45.2160   \n",
      "3   23.8172    9.5728  2.3385  0.6147  0.3922   27.2107  -6.4633   -7.1513   \n",
      "4   75.1362   30.9205  3.1611  0.3168  0.1832   -5.5277  28.5525   21.8393   \n",
      "\n",
      "    fAlpha     fDist  class_h  \n",
      "0  40.0920   81.8828        0  \n",
      "1   6.3609  205.2610        0  \n",
      "2  76.9600  256.7880        0  \n",
      "3  10.4490  116.7370        0  \n",
      "4   4.6480  356.4620        0  \n"
     ]
    }
   ],
   "source": [
    "# Examine dummy-coded data frame\n",
    "print(df_data.head(5))"
   ]
  },
  {
   "cell_type": "markdown",
   "metadata": {},
   "source": [
    "## Task 2: Classification using scikit-learn & pandas"
   ]
  },
  {
   "cell_type": "markdown",
   "metadata": {},
   "source": [
    "#### Task 2.1"
   ]
  },
  {
   "cell_type": "code",
   "execution_count": 9,
   "metadata": {},
   "outputs": [],
   "source": [
    "# Task 2.1: Load & divide the data up into training & test sets, 65% / 35% splits\n",
    "attributes = [col for col in var_names if col != \"class\"]\n",
    "X_train, X_test, y_train, y_test = train_test_split(df_data[attributes], df_data[\"class_h\"], test_size=0.35, random_state=0)"
   ]
  },
  {
   "cell_type": "markdown",
   "metadata": {},
   "source": [
    "#### Task 2.2"
   ]
  },
  {
   "cell_type": "code",
   "execution_count": 10,
   "metadata": {},
   "outputs": [],
   "source": [
    "# Task 2.2: Fit a model using scikit-learn's logistic Regression Classifier\n",
    "\n",
    "# Create our Logistic Regression object\n",
    "lr_clf = LogisticRegression(random_state=50, \n",
    "                         solver='newton-cg', \n",
    "                         multi_class='multinomial')\n",
    "\n",
    "# Fit our Logistic Regression model\n",
    "lr_model = lr_clf.fit(X_train, y_train)\n",
    "\n",
    "# Predict values for our classification report\n",
    "lr_pred = lr_model.predict(X_test)"
   ]
  },
  {
   "cell_type": "code",
   "execution_count": 11,
   "metadata": {},
   "outputs": [
    {
     "name": "stdout",
     "output_type": "stream",
     "text": [
      "Classification Report (Logistic Regression): \n",
      "\n",
      "              precision    recall  f1-score   support\n",
      "\n",
      "           0       0.80      0.90      0.85      4295\n",
      "           1       0.77      0.59      0.67      2362\n",
      "\n",
      "   micro avg       0.79      0.79      0.79      6657\n",
      "   macro avg       0.79      0.75      0.76      6657\n",
      "weighted avg       0.79      0.79      0.78      6657\n",
      "\n"
     ]
    }
   ],
   "source": [
    "# Print evaluation measures\n",
    "print(\"Classification Report (Logistic Regression): \\n\")\n",
    "for line in classification_report(y_test, lr_pred).split(\"\\n\"):\n",
    "    print(line)"
   ]
  },
  {
   "cell_type": "code",
   "execution_count": 12,
   "metadata": {},
   "outputs": [
    {
     "name": "stdout",
     "output_type": "stream",
     "text": [
      "Logistic Regression accuracy on test set: 0.792\n"
     ]
    }
   ],
   "source": [
    "# Print Logistic Regression Accuracy\n",
    "lr_accuracy = lr_clf.score(X_test, y_test)\n",
    "print(\"Logistic Regression accuracy on test set: {:.3f}\".format(lr_accuracy))"
   ]
  },
  {
   "cell_type": "markdown",
   "metadata": {},
   "source": [
    "#### Task 2.3"
   ]
  },
  {
   "cell_type": "code",
   "execution_count": 13,
   "metadata": {},
   "outputs": [
    {
     "name": "stdout",
     "output_type": "stream",
     "text": [
      "SVC(C=1.0, cache_size=200, class_weight=None, coef0=0.0,\n",
      "  decision_function_shape='ovr', degree=3, gamma='auto_deprecated',\n",
      "  kernel='rbf', max_iter=-1, probability=False, random_state=None,\n",
      "  shrinking=True, tol=0.001, verbose=False)\n"
     ]
    }
   ],
   "source": [
    "# Task 2.3: Fit a model using scikit-learn's SVM classifier\n",
    "\n",
    "# Create our SVM object\n",
    "svm_clf = SVC()\n",
    "print(svm_clf)\n",
    "\n",
    "# Fit our SVM model\n",
    "svm_model = svm_clf.fit(X_train, y_train)\n",
    "\n",
    "# Predict values for our classification report\n",
    "svm_pred = svm_model.predict(X_test)"
   ]
  },
  {
   "cell_type": "code",
   "execution_count": 14,
   "metadata": {},
   "outputs": [
    {
     "name": "stdout",
     "output_type": "stream",
     "text": [
      "Classification Report (SVM): \n",
      "\n",
      "              precision    recall  f1-score   support\n",
      "\n",
      "           0       0.65      1.00      0.79      4295\n",
      "           1       0.97      0.02      0.05      2362\n",
      "\n",
      "   micro avg       0.65      0.65      0.65      6657\n",
      "   macro avg       0.81      0.51      0.42      6657\n",
      "weighted avg       0.76      0.65      0.53      6657\n",
      "\n"
     ]
    }
   ],
   "source": [
    "# Print evaluation measures\n",
    "print(\"Classification Report (SVM): \\n\")\n",
    "for line in classification_report(y_test, svm_pred).split(\"\\n\"):\n",
    "    print(line)"
   ]
  },
  {
   "cell_type": "code",
   "execution_count": 15,
   "metadata": {
    "scrolled": true
   },
   "outputs": [
    {
     "name": "stdout",
     "output_type": "stream",
     "text": [
      "SVM accuracy on test set: 0.654\n"
     ]
    }
   ],
   "source": [
    "# Print SVM Accuracy\n",
    "svm_accuracy = svm_clf.score(X_test, y_test)\n",
    "print(\"SVM accuracy on test set: {:.3f}\".format(svm_accuracy))"
   ]
  },
  {
   "cell_type": "markdown",
   "metadata": {},
   "source": [
    "#### Task 2.4:  Answer follow-up questions"
   ]
  },
  {
   "cell_type": "markdown",
   "metadata": {},
   "source": [
    "1) Please use your own language to describe the SVM algorithm (5-10 sentences)\n",
    "\n",
    "Support Vector Machine is a machine learning algorithm used to classify data into two or more classes.  It does this through finding the best hyperplane to separate the data linearly.  That last piece is important -- your data needs to be able to be separated by a line.  When you can't separate your data nicely with a line, then you need to use the kernel trick, which maps your data to a higher-level dimension to be able to better find a line and hyperplane to separate your data.  You can also use soft margins to allow for some errors when fitting your model, and to help avoid overfitting.  Once you've found your optimal hyperplane to separate your data, you can then use it to make predictions on new data and predict which class the new data would best fall into.\n",
    "\n",
    "2) Please use your own language to describe how soft margin svm is different from hard-margin SVM.(<=3 sentences)\n",
    "\n",
    "A hard-margin in SVM works well when your data is perfectly linearly separable, and when you don't have any outliers in your data.  Soft margins allow for some slack when fitting your model, basically changing the weight of incorrect predictions in your model fitting.  Using soft margins in some cases can help you find a model that will generalize better for your data and avoid overfitting.\n",
    "\n",
    "3) Why do you often need to use kernels in SVM? (<3 sentences)\n",
    "\n",
    "As I mentioned in question 1, often times your data isn't nicely separable by a line, and so you can use the kernel trick to translate or map your data into a higher dimension.  In many cases, this translation can make it such that you can actually find an optimal hyperplane that will separate your data nicely."
   ]
  }
 ],
 "metadata": {
  "kernelspec": {
   "display_name": "Python 3 (ipykernel)",
   "language": "python",
   "name": "python3"
  },
  "language_info": {
   "codemirror_mode": {
    "name": "ipython",
    "version": 3
   },
   "file_extension": ".py",
   "mimetype": "text/x-python",
   "name": "python",
   "nbconvert_exporter": "python",
   "pygments_lexer": "ipython3",
   "version": "3.10.9"
  }
 },
 "nbformat": 4,
 "nbformat_minor": 4
}
